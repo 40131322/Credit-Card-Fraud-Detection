{
 "cells": [
  {
   "cell_type": "markdown",
   "id": "81c8b20a-aa73-49a2-b2a3-b777af91096d",
   "metadata": {},
   "source": [
    "# Data Preprocessing:\n",
    "Main contributor (Cheng)"
   ]
  },
  {
   "cell_type": "code",
   "execution_count": 3,
   "id": "3adfb726-9969-49cd-95a4-dec100003b74",
   "metadata": {
    "ExecuteTime": {
     "end_time": "2024-05-14T01:40:50.232503600Z",
     "start_time": "2024-05-14T01:40:44.114504100Z"
    }
   },
   "outputs": [],
   "source": [
    "import seaborn as sns\n",
    "import numpy as np \n",
    "import pandas as pd \n",
    "import matplotlib.pyplot as plt \n",
    "from sklearn.preprocessing import LabelEncoder\n",
    "from sklearn.model_selection import train_test_split\n",
    "from sklearn.preprocessing import StandardScaler\n",
    "from sklearn.linear_model import LogisticRegression\n",
    "\n",
    "df = pd.read_csv(\"PS_20174392719_1491204439457_log.csv\")"
   ]
  },
  {
   "cell_type": "code",
   "execution_count": 4,
   "id": "e49e1477-394a-4249-8706-d2d79c98725c",
   "metadata": {
    "ExecuteTime": {
     "end_time": "2024-05-14T01:40:50.290164400Z",
     "start_time": "2024-05-14T01:40:50.235506100Z"
    }
   },
   "outputs": [
    {
     "data": {
      "text/plain": "   step      type    amount     nameOrig  oldbalanceOrg  newbalanceOrig  \\\n0     1   PAYMENT   9839.64  C1231006815       170136.0       160296.36   \n1     1   PAYMENT   1864.28  C1666544295        21249.0        19384.72   \n2     1  TRANSFER    181.00  C1305486145          181.0            0.00   \n3     1  CASH_OUT    181.00   C840083671          181.0            0.00   \n4     1   PAYMENT  11668.14  C2048537720        41554.0        29885.86   \n\n      nameDest  oldbalanceDest  newbalanceDest  isFraud  isFlaggedFraud  \n0  M1979787155             0.0             0.0        0               0  \n1  M2044282225             0.0             0.0        0               0  \n2   C553264065             0.0             0.0        1               0  \n3    C38997010         21182.0             0.0        1               0  \n4  M1230701703             0.0             0.0        0               0  ",
      "text/html": "<div>\n<style scoped>\n    .dataframe tbody tr th:only-of-type {\n        vertical-align: middle;\n    }\n\n    .dataframe tbody tr th {\n        vertical-align: top;\n    }\n\n    .dataframe thead th {\n        text-align: right;\n    }\n</style>\n<table border=\"1\" class=\"dataframe\">\n  <thead>\n    <tr style=\"text-align: right;\">\n      <th></th>\n      <th>step</th>\n      <th>type</th>\n      <th>amount</th>\n      <th>nameOrig</th>\n      <th>oldbalanceOrg</th>\n      <th>newbalanceOrig</th>\n      <th>nameDest</th>\n      <th>oldbalanceDest</th>\n      <th>newbalanceDest</th>\n      <th>isFraud</th>\n      <th>isFlaggedFraud</th>\n    </tr>\n  </thead>\n  <tbody>\n    <tr>\n      <th>0</th>\n      <td>1</td>\n      <td>PAYMENT</td>\n      <td>9839.64</td>\n      <td>C1231006815</td>\n      <td>170136.0</td>\n      <td>160296.36</td>\n      <td>M1979787155</td>\n      <td>0.0</td>\n      <td>0.0</td>\n      <td>0</td>\n      <td>0</td>\n    </tr>\n    <tr>\n      <th>1</th>\n      <td>1</td>\n      <td>PAYMENT</td>\n      <td>1864.28</td>\n      <td>C1666544295</td>\n      <td>21249.0</td>\n      <td>19384.72</td>\n      <td>M2044282225</td>\n      <td>0.0</td>\n      <td>0.0</td>\n      <td>0</td>\n      <td>0</td>\n    </tr>\n    <tr>\n      <th>2</th>\n      <td>1</td>\n      <td>TRANSFER</td>\n      <td>181.00</td>\n      <td>C1305486145</td>\n      <td>181.0</td>\n      <td>0.00</td>\n      <td>C553264065</td>\n      <td>0.0</td>\n      <td>0.0</td>\n      <td>1</td>\n      <td>0</td>\n    </tr>\n    <tr>\n      <th>3</th>\n      <td>1</td>\n      <td>CASH_OUT</td>\n      <td>181.00</td>\n      <td>C840083671</td>\n      <td>181.0</td>\n      <td>0.00</td>\n      <td>C38997010</td>\n      <td>21182.0</td>\n      <td>0.0</td>\n      <td>1</td>\n      <td>0</td>\n    </tr>\n    <tr>\n      <th>4</th>\n      <td>1</td>\n      <td>PAYMENT</td>\n      <td>11668.14</td>\n      <td>C2048537720</td>\n      <td>41554.0</td>\n      <td>29885.86</td>\n      <td>M1230701703</td>\n      <td>0.0</td>\n      <td>0.0</td>\n      <td>0</td>\n      <td>0</td>\n    </tr>\n  </tbody>\n</table>\n</div>"
     },
     "execution_count": 4,
     "metadata": {},
     "output_type": "execute_result"
    }
   ],
   "source": [
    "df.head()"
   ]
  },
  {
   "cell_type": "code",
   "execution_count": 5,
   "id": "c156d0fa-3790-413d-b1df-fe0564419c2b",
   "metadata": {
    "ExecuteTime": {
     "end_time": "2024-05-14T01:40:50.291166400Z",
     "start_time": "2024-05-14T01:40:50.284290700Z"
    }
   },
   "outputs": [
    {
     "data": {
      "text/plain": "6362620"
     },
     "execution_count": 5,
     "metadata": {},
     "output_type": "execute_result"
    }
   ],
   "source": [
    "len(df)"
   ]
  },
  {
   "cell_type": "code",
   "execution_count": 6,
   "id": "cd84c705-8f6a-4d64-a582-0ac4430268e9",
   "metadata": {
    "ExecuteTime": {
     "end_time": "2024-05-14T01:40:56.042003100Z",
     "start_time": "2024-05-14T01:40:50.287643300Z"
    }
   },
   "outputs": [
    {
     "data": {
      "text/plain": "step                  743\ntype                    5\namount            5316900\nnameOrig          6353307\noldbalanceOrg     1845844\nnewbalanceOrig    2682586\nnameDest          2722362\noldbalanceDest    3614697\nnewbalanceDest    3555499\nisFraud                 2\nisFlaggedFraud          2\ndtype: int64"
     },
     "execution_count": 6,
     "metadata": {},
     "output_type": "execute_result"
    }
   ],
   "source": [
    "df.nunique()"
   ]
  },
  {
   "cell_type": "raw",
   "id": "1af7cbfa-afc5-41b6-8da2-a014f91d4238",
   "metadata": {},
   "source": [
    "df.describe()"
   ]
  },
  {
   "cell_type": "code",
   "execution_count": 7,
   "id": "8d71b9ce-575d-4466-941e-df7faf418b42",
   "metadata": {
    "ExecuteTime": {
     "end_time": "2024-05-14T01:40:56.451384800Z",
     "start_time": "2024-05-14T01:40:56.044004700Z"
    }
   },
   "outputs": [
    {
     "data": {
      "text/plain": "step              0\ntype              0\namount            0\nnameOrig          0\noldbalanceOrg     0\nnewbalanceOrig    0\nnameDest          0\noldbalanceDest    0\nnewbalanceDest    0\nisFraud           0\nisFlaggedFraud    0\ndtype: int64"
     },
     "execution_count": 7,
     "metadata": {},
     "output_type": "execute_result"
    }
   ],
   "source": [
    "df.isnull().sum()"
   ]
  },
  {
   "cell_type": "code",
   "execution_count": 8,
   "id": "b8a3e326-d748-4389-b488-fb7f12eb28aa",
   "metadata": {
    "ExecuteTime": {
     "end_time": "2024-05-14T01:40:56.482070700Z",
     "start_time": "2024-05-14T01:40:56.447865700Z"
    }
   },
   "outputs": [
    {
     "name": "stdout",
     "output_type": "stream",
     "text": [
      "<class 'pandas.core.frame.DataFrame'>\n",
      "RangeIndex: 6362620 entries, 0 to 6362619\n",
      "Data columns (total 11 columns):\n",
      " #   Column          Dtype  \n",
      "---  ------          -----  \n",
      " 0   step            int64  \n",
      " 1   type            object \n",
      " 2   amount          float64\n",
      " 3   nameOrig        object \n",
      " 4   oldbalanceOrg   float64\n",
      " 5   newbalanceOrig  float64\n",
      " 6   nameDest        object \n",
      " 7   oldbalanceDest  float64\n",
      " 8   newbalanceDest  float64\n",
      " 9   isFraud         int64  \n",
      " 10  isFlaggedFraud  int64  \n",
      "dtypes: float64(5), int64(3), object(3)\n",
      "memory usage: 534.0+ MB\n"
     ]
    }
   ],
   "source": [
    "df.info()\n",
    "# for machine learning model, we need all numerical values, so we will have to encode or transform the objects"
   ]
  },
  {
   "cell_type": "code",
   "execution_count": 9,
   "id": "7d4d45d3-2433-4831-83f3-ec5d0b9fe7fc",
   "metadata": {
    "ExecuteTime": {
     "end_time": "2024-05-14T01:40:56.704755600Z",
     "start_time": "2024-05-14T01:40:56.471546900Z"
    }
   },
   "outputs": [
    {
     "data": {
      "text/plain": "array(['PAYMENT', 'TRANSFER', 'CASH_OUT', 'DEBIT', 'CASH_IN'],\n      dtype=object)"
     },
     "execution_count": 9,
     "metadata": {},
     "output_type": "execute_result"
    }
   ],
   "source": [
    "df['type'].unique()"
   ]
  },
  {
   "cell_type": "code",
   "execution_count": 10,
   "id": "1c9a0d66-3d6a-4e35-8c14-596236fead06",
   "metadata": {
    "ExecuteTime": {
     "end_time": "2024-05-14T01:40:57.392512200Z",
     "start_time": "2024-05-14T01:40:56.706757600Z"
    }
   },
   "outputs": [
    {
     "data": {
      "text/plain": "   step  type    amount     nameOrig  oldbalanceOrg  newbalanceOrig  \\\n0     1     3   9839.64  C1231006815       170136.0       160296.36   \n1     1     3   1864.28  C1666544295        21249.0        19384.72   \n2     1     4    181.00  C1305486145          181.0            0.00   \n3     1     1    181.00   C840083671          181.0            0.00   \n4     1     3  11668.14  C2048537720        41554.0        29885.86   \n\n      nameDest  oldbalanceDest  newbalanceDest  isFraud  isFlaggedFraud  \n0  M1979787155             0.0             0.0        0               0  \n1  M2044282225             0.0             0.0        0               0  \n2   C553264065             0.0             0.0        1               0  \n3    C38997010         21182.0             0.0        1               0  \n4  M1230701703             0.0             0.0        0               0  ",
      "text/html": "<div>\n<style scoped>\n    .dataframe tbody tr th:only-of-type {\n        vertical-align: middle;\n    }\n\n    .dataframe tbody tr th {\n        vertical-align: top;\n    }\n\n    .dataframe thead th {\n        text-align: right;\n    }\n</style>\n<table border=\"1\" class=\"dataframe\">\n  <thead>\n    <tr style=\"text-align: right;\">\n      <th></th>\n      <th>step</th>\n      <th>type</th>\n      <th>amount</th>\n      <th>nameOrig</th>\n      <th>oldbalanceOrg</th>\n      <th>newbalanceOrig</th>\n      <th>nameDest</th>\n      <th>oldbalanceDest</th>\n      <th>newbalanceDest</th>\n      <th>isFraud</th>\n      <th>isFlaggedFraud</th>\n    </tr>\n  </thead>\n  <tbody>\n    <tr>\n      <th>0</th>\n      <td>1</td>\n      <td>3</td>\n      <td>9839.64</td>\n      <td>C1231006815</td>\n      <td>170136.0</td>\n      <td>160296.36</td>\n      <td>M1979787155</td>\n      <td>0.0</td>\n      <td>0.0</td>\n      <td>0</td>\n      <td>0</td>\n    </tr>\n    <tr>\n      <th>1</th>\n      <td>1</td>\n      <td>3</td>\n      <td>1864.28</td>\n      <td>C1666544295</td>\n      <td>21249.0</td>\n      <td>19384.72</td>\n      <td>M2044282225</td>\n      <td>0.0</td>\n      <td>0.0</td>\n      <td>0</td>\n      <td>0</td>\n    </tr>\n    <tr>\n      <th>2</th>\n      <td>1</td>\n      <td>4</td>\n      <td>181.00</td>\n      <td>C1305486145</td>\n      <td>181.0</td>\n      <td>0.00</td>\n      <td>C553264065</td>\n      <td>0.0</td>\n      <td>0.0</td>\n      <td>1</td>\n      <td>0</td>\n    </tr>\n    <tr>\n      <th>3</th>\n      <td>1</td>\n      <td>1</td>\n      <td>181.00</td>\n      <td>C840083671</td>\n      <td>181.0</td>\n      <td>0.00</td>\n      <td>C38997010</td>\n      <td>21182.0</td>\n      <td>0.0</td>\n      <td>1</td>\n      <td>0</td>\n    </tr>\n    <tr>\n      <th>4</th>\n      <td>1</td>\n      <td>3</td>\n      <td>11668.14</td>\n      <td>C2048537720</td>\n      <td>41554.0</td>\n      <td>29885.86</td>\n      <td>M1230701703</td>\n      <td>0.0</td>\n      <td>0.0</td>\n      <td>0</td>\n      <td>0</td>\n    </tr>\n  </tbody>\n</table>\n</div>"
     },
     "execution_count": 10,
     "metadata": {},
     "output_type": "execute_result"
    }
   ],
   "source": [
    "# Initialize LabelEncoder\n",
    "label_encoder = LabelEncoder()\n",
    "\n",
    "# Fit and transform the object column\n",
    "df['type'] = label_encoder.fit_transform(df['type'])\n",
    "df.head()"
   ]
  },
  {
   "cell_type": "code",
   "execution_count": 11,
   "id": "fbb30760-ce4d-4eb3-9005-72bc8c3034a9",
   "metadata": {
    "ExecuteTime": {
     "end_time": "2024-05-14T01:40:57.397584300Z",
     "start_time": "2024-05-14T01:40:57.392512200Z"
    }
   },
   "outputs": [
    {
     "data": {
      "text/plain": "6362620"
     },
     "execution_count": 11,
     "metadata": {},
     "output_type": "execute_result"
    }
   ],
   "source": [
    "len(df['type'])"
   ]
  },
  {
   "cell_type": "code",
   "outputs": [
    {
     "ename": "KeyboardInterrupt",
     "evalue": "",
     "output_type": "error",
     "traceback": [
      "\u001B[1;31m---------------------------------------------------------------------------\u001B[0m",
      "\u001B[1;31mKeyboardInterrupt\u001B[0m                         Traceback (most recent call last)",
      "Cell \u001B[1;32mIn[14], line 2\u001B[0m\n\u001B[0;32m      1\u001B[0m \u001B[38;5;66;03m# Calculate total amount sent by each nameOrig\u001B[39;00m\n\u001B[1;32m----> 2\u001B[0m total_sent \u001B[38;5;241m=\u001B[39m df\u001B[38;5;241m.\u001B[39mgroupby(\u001B[38;5;124m'\u001B[39m\u001B[38;5;124mnameOrig\u001B[39m\u001B[38;5;124m'\u001B[39m)[\u001B[38;5;124m'\u001B[39m\u001B[38;5;124mamount\u001B[39m\u001B[38;5;124m'\u001B[39m]\u001B[38;5;241m.\u001B[39msum()\u001B[38;5;241m.\u001B[39mreset_index()\n\u001B[0;32m      3\u001B[0m total_sent\u001B[38;5;241m.\u001B[39mcolumns \u001B[38;5;241m=\u001B[39m [\u001B[38;5;124m'\u001B[39m\u001B[38;5;124mnameOrig\u001B[39m\u001B[38;5;124m'\u001B[39m, \u001B[38;5;124m'\u001B[39m\u001B[38;5;124mtotal_sent\u001B[39m\u001B[38;5;124m'\u001B[39m]\n\u001B[0;32m      5\u001B[0m \u001B[38;5;66;03m# Calculate total amount received by each nameDest\u001B[39;00m\n",
      "File \u001B[1;32m~\\anaconda3\\Lib\\site-packages\\pandas\\core\\groupby\\groupby.py:2263\u001B[0m, in \u001B[0;36mGroupBy.sum\u001B[1;34m(self, numeric_only, min_count, engine, engine_kwargs)\u001B[0m\n\u001B[0;32m   2258\u001B[0m \u001B[38;5;28;01melse\u001B[39;00m:\n\u001B[0;32m   2259\u001B[0m     \u001B[38;5;66;03m# If we are grouping on categoricals we want unobserved categories to\u001B[39;00m\n\u001B[0;32m   2260\u001B[0m     \u001B[38;5;66;03m# return zero, rather than the default of NaN which the reindexing in\u001B[39;00m\n\u001B[0;32m   2261\u001B[0m     \u001B[38;5;66;03m# _agg_general() returns. GH #31422\u001B[39;00m\n\u001B[0;32m   2262\u001B[0m     \u001B[38;5;28;01mwith\u001B[39;00m com\u001B[38;5;241m.\u001B[39mtemp_setattr(\u001B[38;5;28mself\u001B[39m, \u001B[38;5;124m\"\u001B[39m\u001B[38;5;124mobserved\u001B[39m\u001B[38;5;124m\"\u001B[39m, \u001B[38;5;28;01mTrue\u001B[39;00m):\n\u001B[1;32m-> 2263\u001B[0m         result \u001B[38;5;241m=\u001B[39m \u001B[38;5;28mself\u001B[39m\u001B[38;5;241m.\u001B[39m_agg_general(\n\u001B[0;32m   2264\u001B[0m             numeric_only\u001B[38;5;241m=\u001B[39mnumeric_only,\n\u001B[0;32m   2265\u001B[0m             min_count\u001B[38;5;241m=\u001B[39mmin_count,\n\u001B[0;32m   2266\u001B[0m             alias\u001B[38;5;241m=\u001B[39m\u001B[38;5;124m\"\u001B[39m\u001B[38;5;124msum\u001B[39m\u001B[38;5;124m\"\u001B[39m,\n\u001B[0;32m   2267\u001B[0m             npfunc\u001B[38;5;241m=\u001B[39mnp\u001B[38;5;241m.\u001B[39msum,\n\u001B[0;32m   2268\u001B[0m         )\n\u001B[0;32m   2270\u001B[0m     \u001B[38;5;28;01mreturn\u001B[39;00m \u001B[38;5;28mself\u001B[39m\u001B[38;5;241m.\u001B[39m_reindex_output(result, fill_value\u001B[38;5;241m=\u001B[39m\u001B[38;5;241m0\u001B[39m)\n",
      "File \u001B[1;32m~\\anaconda3\\Lib\\site-packages\\pandas\\core\\groupby\\groupby.py:1422\u001B[0m, in \u001B[0;36mGroupBy._agg_general\u001B[1;34m(self, numeric_only, min_count, alias, npfunc)\u001B[0m\n\u001B[0;32m   1413\u001B[0m \u001B[38;5;129m@final\u001B[39m\n\u001B[0;32m   1414\u001B[0m \u001B[38;5;28;01mdef\u001B[39;00m \u001B[38;5;21m_agg_general\u001B[39m(\n\u001B[0;32m   1415\u001B[0m     \u001B[38;5;28mself\u001B[39m,\n\u001B[1;32m   (...)\u001B[0m\n\u001B[0;32m   1420\u001B[0m     npfunc: Callable,\n\u001B[0;32m   1421\u001B[0m ):\n\u001B[1;32m-> 1422\u001B[0m     result \u001B[38;5;241m=\u001B[39m \u001B[38;5;28mself\u001B[39m\u001B[38;5;241m.\u001B[39m_cython_agg_general(\n\u001B[0;32m   1423\u001B[0m         how\u001B[38;5;241m=\u001B[39malias,\n\u001B[0;32m   1424\u001B[0m         alt\u001B[38;5;241m=\u001B[39mnpfunc,\n\u001B[0;32m   1425\u001B[0m         numeric_only\u001B[38;5;241m=\u001B[39mnumeric_only,\n\u001B[0;32m   1426\u001B[0m         min_count\u001B[38;5;241m=\u001B[39mmin_count,\n\u001B[0;32m   1427\u001B[0m     )\n\u001B[0;32m   1428\u001B[0m     \u001B[38;5;28;01mreturn\u001B[39;00m result\u001B[38;5;241m.\u001B[39m__finalize__(\u001B[38;5;28mself\u001B[39m\u001B[38;5;241m.\u001B[39mobj, method\u001B[38;5;241m=\u001B[39m\u001B[38;5;124m\"\u001B[39m\u001B[38;5;124mgroupby\u001B[39m\u001B[38;5;124m\"\u001B[39m)\n",
      "File \u001B[1;32m~\\anaconda3\\Lib\\site-packages\\pandas\\core\\groupby\\groupby.py:1507\u001B[0m, in \u001B[0;36mGroupBy._cython_agg_general\u001B[1;34m(self, how, alt, numeric_only, min_count, **kwargs)\u001B[0m\n\u001B[0;32m   1503\u001B[0m         result \u001B[38;5;241m=\u001B[39m \u001B[38;5;28mself\u001B[39m\u001B[38;5;241m.\u001B[39m_agg_py_fallback(values, ndim\u001B[38;5;241m=\u001B[39mdata\u001B[38;5;241m.\u001B[39mndim, alt\u001B[38;5;241m=\u001B[39malt)\n\u001B[0;32m   1505\u001B[0m     \u001B[38;5;28;01mreturn\u001B[39;00m result\n\u001B[1;32m-> 1507\u001B[0m new_mgr \u001B[38;5;241m=\u001B[39m data\u001B[38;5;241m.\u001B[39mgrouped_reduce(array_func)\n\u001B[0;32m   1508\u001B[0m res \u001B[38;5;241m=\u001B[39m \u001B[38;5;28mself\u001B[39m\u001B[38;5;241m.\u001B[39m_wrap_agged_manager(new_mgr)\n\u001B[0;32m   1509\u001B[0m out \u001B[38;5;241m=\u001B[39m \u001B[38;5;28mself\u001B[39m\u001B[38;5;241m.\u001B[39m_wrap_aggregated_output(res)\n",
      "File \u001B[1;32m~\\anaconda3\\Lib\\site-packages\\pandas\\core\\internals\\base.py:197\u001B[0m, in \u001B[0;36mSingleDataManager.grouped_reduce\u001B[1;34m(self, func)\u001B[0m\n\u001B[0;32m    195\u001B[0m \u001B[38;5;28;01mdef\u001B[39;00m \u001B[38;5;21mgrouped_reduce\u001B[39m(\u001B[38;5;28mself\u001B[39m, func):\n\u001B[0;32m    196\u001B[0m     arr \u001B[38;5;241m=\u001B[39m \u001B[38;5;28mself\u001B[39m\u001B[38;5;241m.\u001B[39marray\n\u001B[1;32m--> 197\u001B[0m     res \u001B[38;5;241m=\u001B[39m func(arr)\n\u001B[0;32m    198\u001B[0m     index \u001B[38;5;241m=\u001B[39m default_index(\u001B[38;5;28mlen\u001B[39m(res))\n\u001B[0;32m    200\u001B[0m     mgr \u001B[38;5;241m=\u001B[39m \u001B[38;5;28mtype\u001B[39m(\u001B[38;5;28mself\u001B[39m)\u001B[38;5;241m.\u001B[39mfrom_array(res, index)\n",
      "File \u001B[1;32m~\\anaconda3\\Lib\\site-packages\\pandas\\core\\groupby\\groupby.py:1490\u001B[0m, in \u001B[0;36mGroupBy._cython_agg_general.<locals>.array_func\u001B[1;34m(values)\u001B[0m\n\u001B[0;32m   1488\u001B[0m \u001B[38;5;28;01mdef\u001B[39;00m \u001B[38;5;21marray_func\u001B[39m(values: ArrayLike) \u001B[38;5;241m-\u001B[39m\u001B[38;5;241m>\u001B[39m ArrayLike:\n\u001B[0;32m   1489\u001B[0m     \u001B[38;5;28;01mtry\u001B[39;00m:\n\u001B[1;32m-> 1490\u001B[0m         result \u001B[38;5;241m=\u001B[39m \u001B[38;5;28mself\u001B[39m\u001B[38;5;241m.\u001B[39mgrouper\u001B[38;5;241m.\u001B[39m_cython_operation(\n\u001B[0;32m   1491\u001B[0m             \u001B[38;5;124m\"\u001B[39m\u001B[38;5;124maggregate\u001B[39m\u001B[38;5;124m\"\u001B[39m,\n\u001B[0;32m   1492\u001B[0m             values,\n\u001B[0;32m   1493\u001B[0m             how,\n\u001B[0;32m   1494\u001B[0m             axis\u001B[38;5;241m=\u001B[39mdata\u001B[38;5;241m.\u001B[39mndim \u001B[38;5;241m-\u001B[39m \u001B[38;5;241m1\u001B[39m,\n\u001B[0;32m   1495\u001B[0m             min_count\u001B[38;5;241m=\u001B[39mmin_count,\n\u001B[0;32m   1496\u001B[0m             \u001B[38;5;241m*\u001B[39m\u001B[38;5;241m*\u001B[39mkwargs,\n\u001B[0;32m   1497\u001B[0m         )\n\u001B[0;32m   1498\u001B[0m     \u001B[38;5;28;01mexcept\u001B[39;00m \u001B[38;5;167;01mNotImplementedError\u001B[39;00m:\n\u001B[0;32m   1499\u001B[0m         \u001B[38;5;66;03m# generally if we have numeric_only=False\u001B[39;00m\n\u001B[0;32m   1500\u001B[0m         \u001B[38;5;66;03m# and non-applicable functions\u001B[39;00m\n\u001B[0;32m   1501\u001B[0m         \u001B[38;5;66;03m# try to python agg\u001B[39;00m\n\u001B[0;32m   1502\u001B[0m         \u001B[38;5;66;03m# TODO: shouldn't min_count matter?\u001B[39;00m\n\u001B[0;32m   1503\u001B[0m         result \u001B[38;5;241m=\u001B[39m \u001B[38;5;28mself\u001B[39m\u001B[38;5;241m.\u001B[39m_agg_py_fallback(values, ndim\u001B[38;5;241m=\u001B[39mdata\u001B[38;5;241m.\u001B[39mndim, alt\u001B[38;5;241m=\u001B[39malt)\n",
      "File \u001B[1;32m~\\anaconda3\\Lib\\site-packages\\pandas\\core\\groupby\\ops.py:955\u001B[0m, in \u001B[0;36mBaseGrouper._cython_operation\u001B[1;34m(self, kind, values, how, axis, min_count, **kwargs)\u001B[0m\n\u001B[0;32m    950\u001B[0m \u001B[38;5;250m\u001B[39m\u001B[38;5;124;03m\"\"\"\u001B[39;00m\n\u001B[0;32m    951\u001B[0m \u001B[38;5;124;03mReturns the values of a cython operation.\u001B[39;00m\n\u001B[0;32m    952\u001B[0m \u001B[38;5;124;03m\"\"\"\u001B[39;00m\n\u001B[0;32m    953\u001B[0m \u001B[38;5;28;01massert\u001B[39;00m kind \u001B[38;5;129;01min\u001B[39;00m [\u001B[38;5;124m\"\u001B[39m\u001B[38;5;124mtransform\u001B[39m\u001B[38;5;124m\"\u001B[39m, \u001B[38;5;124m\"\u001B[39m\u001B[38;5;124maggregate\u001B[39m\u001B[38;5;124m\"\u001B[39m]\n\u001B[1;32m--> 955\u001B[0m cy_op \u001B[38;5;241m=\u001B[39m WrappedCythonOp(kind\u001B[38;5;241m=\u001B[39mkind, how\u001B[38;5;241m=\u001B[39mhow, has_dropped_na\u001B[38;5;241m=\u001B[39m\u001B[38;5;28mself\u001B[39m\u001B[38;5;241m.\u001B[39mhas_dropped_na)\n\u001B[0;32m    957\u001B[0m ids, _, _ \u001B[38;5;241m=\u001B[39m \u001B[38;5;28mself\u001B[39m\u001B[38;5;241m.\u001B[39mgroup_info\n\u001B[0;32m    958\u001B[0m ngroups \u001B[38;5;241m=\u001B[39m \u001B[38;5;28mself\u001B[39m\u001B[38;5;241m.\u001B[39mngroups\n",
      "File \u001B[1;32m~\\anaconda3\\Lib\\site-packages\\pandas\\_libs\\properties.pyx:36\u001B[0m, in \u001B[0;36mpandas._libs.properties.CachedProperty.__get__\u001B[1;34m()\u001B[0m\n",
      "File \u001B[1;32m~\\anaconda3\\Lib\\site-packages\\pandas\\core\\groupby\\ops.py:869\u001B[0m, in \u001B[0;36mBaseGrouper.has_dropped_na\u001B[1;34m(self)\u001B[0m\n\u001B[0;32m    863\u001B[0m \u001B[38;5;129m@final\u001B[39m\n\u001B[0;32m    864\u001B[0m \u001B[38;5;129m@cache_readonly\u001B[39m\n\u001B[0;32m    865\u001B[0m \u001B[38;5;28;01mdef\u001B[39;00m \u001B[38;5;21mhas_dropped_na\u001B[39m(\u001B[38;5;28mself\u001B[39m) \u001B[38;5;241m-\u001B[39m\u001B[38;5;241m>\u001B[39m \u001B[38;5;28mbool\u001B[39m:\n\u001B[0;32m    866\u001B[0m \u001B[38;5;250m    \u001B[39m\u001B[38;5;124;03m\"\"\"\u001B[39;00m\n\u001B[0;32m    867\u001B[0m \u001B[38;5;124;03m    Whether grouper has null value(s) that are dropped.\u001B[39;00m\n\u001B[0;32m    868\u001B[0m \u001B[38;5;124;03m    \"\"\"\u001B[39;00m\n\u001B[1;32m--> 869\u001B[0m     \u001B[38;5;28;01mreturn\u001B[39;00m \u001B[38;5;28mbool\u001B[39m((\u001B[38;5;28mself\u001B[39m\u001B[38;5;241m.\u001B[39mgroup_info[\u001B[38;5;241m0\u001B[39m] \u001B[38;5;241m<\u001B[39m \u001B[38;5;241m0\u001B[39m)\u001B[38;5;241m.\u001B[39many())\n",
      "File \u001B[1;32m~\\anaconda3\\Lib\\site-packages\\pandas\\_libs\\properties.pyx:36\u001B[0m, in \u001B[0;36mpandas._libs.properties.CachedProperty.__get__\u001B[1;34m()\u001B[0m\n",
      "File \u001B[1;32m~\\anaconda3\\Lib\\site-packages\\pandas\\core\\groupby\\ops.py:873\u001B[0m, in \u001B[0;36mBaseGrouper.group_info\u001B[1;34m(self)\u001B[0m\n\u001B[0;32m    871\u001B[0m \u001B[38;5;129m@cache_readonly\u001B[39m\n\u001B[0;32m    872\u001B[0m \u001B[38;5;28;01mdef\u001B[39;00m \u001B[38;5;21mgroup_info\u001B[39m(\u001B[38;5;28mself\u001B[39m) \u001B[38;5;241m-\u001B[39m\u001B[38;5;241m>\u001B[39m \u001B[38;5;28mtuple\u001B[39m[npt\u001B[38;5;241m.\u001B[39mNDArray[np\u001B[38;5;241m.\u001B[39mintp], npt\u001B[38;5;241m.\u001B[39mNDArray[np\u001B[38;5;241m.\u001B[39mintp], \u001B[38;5;28mint\u001B[39m]:\n\u001B[1;32m--> 873\u001B[0m     comp_ids, obs_group_ids \u001B[38;5;241m=\u001B[39m \u001B[38;5;28mself\u001B[39m\u001B[38;5;241m.\u001B[39m_get_compressed_codes()\n\u001B[0;32m    875\u001B[0m     ngroups \u001B[38;5;241m=\u001B[39m \u001B[38;5;28mlen\u001B[39m(obs_group_ids)\n\u001B[0;32m    876\u001B[0m     comp_ids \u001B[38;5;241m=\u001B[39m ensure_platform_int(comp_ids)\n",
      "File \u001B[1;32m~\\anaconda3\\Lib\\site-packages\\pandas\\core\\groupby\\ops.py:897\u001B[0m, in \u001B[0;36mBaseGrouper._get_compressed_codes\u001B[1;34m(self)\u001B[0m\n\u001B[0;32m    894\u001B[0m     \u001B[38;5;66;03m# FIXME: compress_group_index's second return value is int64, not intp\u001B[39;00m\n\u001B[0;32m    896\u001B[0m ping \u001B[38;5;241m=\u001B[39m \u001B[38;5;28mself\u001B[39m\u001B[38;5;241m.\u001B[39mgroupings[\u001B[38;5;241m0\u001B[39m]\n\u001B[1;32m--> 897\u001B[0m \u001B[38;5;28;01mreturn\u001B[39;00m ping\u001B[38;5;241m.\u001B[39mcodes, np\u001B[38;5;241m.\u001B[39marange(\u001B[38;5;28mlen\u001B[39m(ping\u001B[38;5;241m.\u001B[39mgroup_index), dtype\u001B[38;5;241m=\u001B[39mnp\u001B[38;5;241m.\u001B[39mintp)\n",
      "File \u001B[1;32m~\\anaconda3\\Lib\\site-packages\\pandas\\core\\groupby\\grouper.py:671\u001B[0m, in \u001B[0;36mGrouping.codes\u001B[1;34m(self)\u001B[0m\n\u001B[0;32m    669\u001B[0m \u001B[38;5;129m@property\u001B[39m\n\u001B[0;32m    670\u001B[0m \u001B[38;5;28;01mdef\u001B[39;00m \u001B[38;5;21mcodes\u001B[39m(\u001B[38;5;28mself\u001B[39m) \u001B[38;5;241m-\u001B[39m\u001B[38;5;241m>\u001B[39m npt\u001B[38;5;241m.\u001B[39mNDArray[np\u001B[38;5;241m.\u001B[39msignedinteger]:\n\u001B[1;32m--> 671\u001B[0m     \u001B[38;5;28;01mreturn\u001B[39;00m \u001B[38;5;28mself\u001B[39m\u001B[38;5;241m.\u001B[39m_codes_and_uniques[\u001B[38;5;241m0\u001B[39m]\n",
      "File \u001B[1;32m~\\anaconda3\\Lib\\site-packages\\pandas\\_libs\\properties.pyx:36\u001B[0m, in \u001B[0;36mpandas._libs.properties.CachedProperty.__get__\u001B[1;34m()\u001B[0m\n",
      "File \u001B[1;32m~\\anaconda3\\Lib\\site-packages\\pandas\\core\\groupby\\grouper.py:780\u001B[0m, in \u001B[0;36mGrouping._codes_and_uniques\u001B[1;34m(self)\u001B[0m\n\u001B[0;32m    775\u001B[0m     uniques \u001B[38;5;241m=\u001B[39m \u001B[38;5;28mself\u001B[39m\u001B[38;5;241m.\u001B[39m_uniques\n\u001B[0;32m    776\u001B[0m \u001B[38;5;28;01melse\u001B[39;00m:\n\u001B[0;32m    777\u001B[0m     \u001B[38;5;66;03m# GH35667, replace dropna=False with use_na_sentinel=False\u001B[39;00m\n\u001B[0;32m    778\u001B[0m     \u001B[38;5;66;03m# error: Incompatible types in assignment (expression has type \"Union[\u001B[39;00m\n\u001B[0;32m    779\u001B[0m     \u001B[38;5;66;03m# ndarray[Any, Any], Index]\", variable has type \"Categorical\")\u001B[39;00m\n\u001B[1;32m--> 780\u001B[0m     codes, uniques \u001B[38;5;241m=\u001B[39m algorithms\u001B[38;5;241m.\u001B[39mfactorize(  \u001B[38;5;66;03m# type: ignore[assignment]\u001B[39;00m\n\u001B[0;32m    781\u001B[0m         \u001B[38;5;28mself\u001B[39m\u001B[38;5;241m.\u001B[39mgrouping_vector, sort\u001B[38;5;241m=\u001B[39m\u001B[38;5;28mself\u001B[39m\u001B[38;5;241m.\u001B[39m_sort, use_na_sentinel\u001B[38;5;241m=\u001B[39m\u001B[38;5;28mself\u001B[39m\u001B[38;5;241m.\u001B[39m_dropna\n\u001B[0;32m    782\u001B[0m     )\n\u001B[0;32m    783\u001B[0m \u001B[38;5;28;01mreturn\u001B[39;00m codes, uniques\n",
      "File \u001B[1;32m~\\anaconda3\\Lib\\site-packages\\pandas\\core\\algorithms.py:787\u001B[0m, in \u001B[0;36mfactorize\u001B[1;34m(values, sort, use_na_sentinel, size_hint)\u001B[0m\n\u001B[0;32m    780\u001B[0m     codes, uniques \u001B[38;5;241m=\u001B[39m factorize_array(\n\u001B[0;32m    781\u001B[0m         values,\n\u001B[0;32m    782\u001B[0m         use_na_sentinel\u001B[38;5;241m=\u001B[39muse_na_sentinel,\n\u001B[0;32m    783\u001B[0m         size_hint\u001B[38;5;241m=\u001B[39msize_hint,\n\u001B[0;32m    784\u001B[0m     )\n\u001B[0;32m    786\u001B[0m \u001B[38;5;28;01mif\u001B[39;00m sort \u001B[38;5;129;01mand\u001B[39;00m \u001B[38;5;28mlen\u001B[39m(uniques) \u001B[38;5;241m>\u001B[39m \u001B[38;5;241m0\u001B[39m:\n\u001B[1;32m--> 787\u001B[0m     uniques, codes \u001B[38;5;241m=\u001B[39m safe_sort(\n\u001B[0;32m    788\u001B[0m         uniques,\n\u001B[0;32m    789\u001B[0m         codes,\n\u001B[0;32m    790\u001B[0m         use_na_sentinel\u001B[38;5;241m=\u001B[39muse_na_sentinel,\n\u001B[0;32m    791\u001B[0m         assume_unique\u001B[38;5;241m=\u001B[39m\u001B[38;5;28;01mTrue\u001B[39;00m,\n\u001B[0;32m    792\u001B[0m         verify\u001B[38;5;241m=\u001B[39m\u001B[38;5;28;01mFalse\u001B[39;00m,\n\u001B[0;32m    793\u001B[0m     )\n\u001B[0;32m    795\u001B[0m uniques \u001B[38;5;241m=\u001B[39m _reconstruct_data(uniques, original\u001B[38;5;241m.\u001B[39mdtype, original)\n\u001B[0;32m    797\u001B[0m \u001B[38;5;28;01mreturn\u001B[39;00m codes, uniques\n",
      "File \u001B[1;32m~\\anaconda3\\Lib\\site-packages\\pandas\\core\\algorithms.py:1578\u001B[0m, in \u001B[0;36msafe_sort\u001B[1;34m(values, codes, use_na_sentinel, assume_unique, verify)\u001B[0m\n\u001B[0;32m   1574\u001B[0m     sorter \u001B[38;5;241m=\u001B[39m ensure_platform_int(t\u001B[38;5;241m.\u001B[39mlookup(ordered))\n\u001B[0;32m   1576\u001B[0m \u001B[38;5;28;01mif\u001B[39;00m use_na_sentinel:\n\u001B[0;32m   1577\u001B[0m     \u001B[38;5;66;03m# take_nd is faster, but only works for na_sentinels of -1\u001B[39;00m\n\u001B[1;32m-> 1578\u001B[0m     order2 \u001B[38;5;241m=\u001B[39m sorter\u001B[38;5;241m.\u001B[39margsort()\n\u001B[0;32m   1579\u001B[0m     new_codes \u001B[38;5;241m=\u001B[39m take_nd(order2, codes, fill_value\u001B[38;5;241m=\u001B[39m\u001B[38;5;241m-\u001B[39m\u001B[38;5;241m1\u001B[39m)\n\u001B[0;32m   1580\u001B[0m     \u001B[38;5;28;01mif\u001B[39;00m verify:\n",
      "\u001B[1;31mKeyboardInterrupt\u001B[0m: "
     ]
    }
   ],
   "source": [
    "#calculate amount coln\n",
    "df['amount'] = df['oldbalanceOrg'] - df['newbalanceOrg']\n",
    "\n",
    "# Calculate total amount sent by each nameOrig\n",
    "total_sent = df.groupby('nameOrig')['amount'].sum().reset_index()\n",
    "total_sent.columns = ['nameOrig', 'total_sent']\n",
    "\n",
    "# Calculate total amount received by each nameDest\n",
    "total_received = df.groupby('nameDest')['amount'].sum().reset_index()\n",
    "total_received.columns = ['nameOrig', 'total_received']\n",
    "\n",
    "# Merge the total_sent and total_received DataFrames back to the original DataFrame\n",
    "df = df.merge(total_sent, on='nameOrig', how='left')\n",
    "df = df.merge(total_received, left_on='nameOrig', right_on='nameOrig', how='left')"
   ],
   "metadata": {
    "collapsed": false,
    "ExecuteTime": {
     "end_time": "2024-05-14T02:09:02.604807200Z",
     "start_time": "2024-05-14T02:08:50.772002400Z"
    }
   },
   "id": "a70782a0f0cdab11",
   "execution_count": 14
  },
  {
   "cell_type": "code",
   "execution_count": 12,
   "id": "3f897a0e-f01c-4ee2-8a30-1c656d954298",
   "metadata": {
    "ExecuteTime": {
     "end_time": "2024-05-14T01:40:58.330101600Z",
     "start_time": "2024-05-14T01:40:57.396582500Z"
    }
   },
   "outputs": [
    {
     "data": {
      "text/plain": "               step          type        amount  oldbalanceOrg  \\\ncount  6.362620e+06  6.362620e+06  6.362620e+06   6.362620e+06   \nmean   2.433972e+02  1.714150e+00  1.798619e+05   8.338831e+05   \nstd    1.423320e+02  1.350117e+00  6.038582e+05   2.888243e+06   \nmin    1.000000e+00  0.000000e+00  0.000000e+00   0.000000e+00   \n25%    1.560000e+02  1.000000e+00  1.338957e+04   0.000000e+00   \n50%    2.390000e+02  1.000000e+00  7.487194e+04   1.420800e+04   \n75%    3.350000e+02  3.000000e+00  2.087215e+05   1.073152e+05   \nmax    7.430000e+02  4.000000e+00  9.244552e+07   5.958504e+07   \n\n       newbalanceOrig  oldbalanceDest  newbalanceDest       isFraud  \\\ncount    6.362620e+06    6.362620e+06    6.362620e+06  6.362620e+06   \nmean     8.551137e+05    1.100702e+06    1.224996e+06  1.290820e-03   \nstd      2.924049e+06    3.399180e+06    3.674129e+06  3.590480e-02   \nmin      0.000000e+00    0.000000e+00    0.000000e+00  0.000000e+00   \n25%      0.000000e+00    0.000000e+00    0.000000e+00  0.000000e+00   \n50%      0.000000e+00    1.327057e+05    2.146614e+05  0.000000e+00   \n75%      1.442584e+05    9.430367e+05    1.111909e+06  0.000000e+00   \nmax      4.958504e+07    3.560159e+08    3.561793e+08  1.000000e+00   \n\n       isFlaggedFraud  \ncount    6.362620e+06  \nmean     2.514687e-06  \nstd      1.585775e-03  \nmin      0.000000e+00  \n25%      0.000000e+00  \n50%      0.000000e+00  \n75%      0.000000e+00  \nmax      1.000000e+00  ",
      "text/html": "<div>\n<style scoped>\n    .dataframe tbody tr th:only-of-type {\n        vertical-align: middle;\n    }\n\n    .dataframe tbody tr th {\n        vertical-align: top;\n    }\n\n    .dataframe thead th {\n        text-align: right;\n    }\n</style>\n<table border=\"1\" class=\"dataframe\">\n  <thead>\n    <tr style=\"text-align: right;\">\n      <th></th>\n      <th>step</th>\n      <th>type</th>\n      <th>amount</th>\n      <th>oldbalanceOrg</th>\n      <th>newbalanceOrig</th>\n      <th>oldbalanceDest</th>\n      <th>newbalanceDest</th>\n      <th>isFraud</th>\n      <th>isFlaggedFraud</th>\n    </tr>\n  </thead>\n  <tbody>\n    <tr>\n      <th>count</th>\n      <td>6.362620e+06</td>\n      <td>6.362620e+06</td>\n      <td>6.362620e+06</td>\n      <td>6.362620e+06</td>\n      <td>6.362620e+06</td>\n      <td>6.362620e+06</td>\n      <td>6.362620e+06</td>\n      <td>6.362620e+06</td>\n      <td>6.362620e+06</td>\n    </tr>\n    <tr>\n      <th>mean</th>\n      <td>2.433972e+02</td>\n      <td>1.714150e+00</td>\n      <td>1.798619e+05</td>\n      <td>8.338831e+05</td>\n      <td>8.551137e+05</td>\n      <td>1.100702e+06</td>\n      <td>1.224996e+06</td>\n      <td>1.290820e-03</td>\n      <td>2.514687e-06</td>\n    </tr>\n    <tr>\n      <th>std</th>\n      <td>1.423320e+02</td>\n      <td>1.350117e+00</td>\n      <td>6.038582e+05</td>\n      <td>2.888243e+06</td>\n      <td>2.924049e+06</td>\n      <td>3.399180e+06</td>\n      <td>3.674129e+06</td>\n      <td>3.590480e-02</td>\n      <td>1.585775e-03</td>\n    </tr>\n    <tr>\n      <th>min</th>\n      <td>1.000000e+00</td>\n      <td>0.000000e+00</td>\n      <td>0.000000e+00</td>\n      <td>0.000000e+00</td>\n      <td>0.000000e+00</td>\n      <td>0.000000e+00</td>\n      <td>0.000000e+00</td>\n      <td>0.000000e+00</td>\n      <td>0.000000e+00</td>\n    </tr>\n    <tr>\n      <th>25%</th>\n      <td>1.560000e+02</td>\n      <td>1.000000e+00</td>\n      <td>1.338957e+04</td>\n      <td>0.000000e+00</td>\n      <td>0.000000e+00</td>\n      <td>0.000000e+00</td>\n      <td>0.000000e+00</td>\n      <td>0.000000e+00</td>\n      <td>0.000000e+00</td>\n    </tr>\n    <tr>\n      <th>50%</th>\n      <td>2.390000e+02</td>\n      <td>1.000000e+00</td>\n      <td>7.487194e+04</td>\n      <td>1.420800e+04</td>\n      <td>0.000000e+00</td>\n      <td>1.327057e+05</td>\n      <td>2.146614e+05</td>\n      <td>0.000000e+00</td>\n      <td>0.000000e+00</td>\n    </tr>\n    <tr>\n      <th>75%</th>\n      <td>3.350000e+02</td>\n      <td>3.000000e+00</td>\n      <td>2.087215e+05</td>\n      <td>1.073152e+05</td>\n      <td>1.442584e+05</td>\n      <td>9.430367e+05</td>\n      <td>1.111909e+06</td>\n      <td>0.000000e+00</td>\n      <td>0.000000e+00</td>\n    </tr>\n    <tr>\n      <th>max</th>\n      <td>7.430000e+02</td>\n      <td>4.000000e+00</td>\n      <td>9.244552e+07</td>\n      <td>5.958504e+07</td>\n      <td>4.958504e+07</td>\n      <td>3.560159e+08</td>\n      <td>3.561793e+08</td>\n      <td>1.000000e+00</td>\n      <td>1.000000e+00</td>\n    </tr>\n  </tbody>\n</table>\n</div>"
     },
     "execution_count": 12,
     "metadata": {},
     "output_type": "execute_result"
    }
   ],
   "source": [
    "df.describe()"
   ]
  },
  {
   "cell_type": "markdown",
   "id": "283447bf-8614-4337-a0a9-8c2de75b9671",
   "metadata": {},
   "source": [
    "Code from other project that can be applied"
   ]
  },
  {
   "cell_type": "markdown",
   "id": "7d8a99e4-c215-4079-bec4-4afaa5a88785",
   "metadata": {},
   "source": [
    "# Large amount of outliers in the data, we will clean the outliers for non categorical data\n",
    "# Define a function to identify outliers for a given column\n",
    "def identify_outliers(column):\n",
    "    q1 = column.quantile(0.25)\n",
    "    q3 = column.quantile(0.75)\n",
    "    iqr = q3 - q1\n",
    "    lower_bound = q1 - 1.5 * iqr\n",
    "    upper_bound = q3 + 1.5 * iqr\n",
    "    outliers = (column < lower_bound) | (column > upper_bound)\n",
    "    return outliers\n",
    "\n",
    "# Create an empty DataFrame to store outlier information\n",
    "outlier_info = pd.DataFrame(columns=df.columns)\n",
    "\n",
    "# Iterate over each column and identify outliers\n",
    "for column in df.columns:\n",
    "    outliers = identify_outliers(df[column])\n",
    "    outlier_info[column] = outliers\n",
    "\n",
    "def remove_outliers(df):\n",
    "    df_cleaned = df.copy()\n",
    "\n",
    "    for col in df_cleaned.select_dtypes(include='number').columns:\n",
    "        q1 = df_cleaned[col].quantile(0.25)\n",
    "        q3 = df_cleaned[col].quantile(0.75)\n",
    "        iqr = q3 - q1\n",
    "        lower_bound = q1 - 1.5 * iqr\n",
    "        upper_bound = q3 + 1.5 * iqr\n",
    "\n",
    "        outliers = (df_cleaned[col] < lower_bound) | (df_cleaned[col] > upper_bound)\n",
    "        df_cleaned = df_cleaned[~outliers]\n",
    "    \n",
    "    return df_cleaned\n",
    "\n",
    "# Compute correlation with a specific column\n",
    "correlation_with_target = df.corrwith(df['SalePrice'])\n",
    "\n",
    "df_cor = correlation_with_target.abs().sort_values(ascending=False)\n",
    "df_cor[df_cor>0.6]\n",
    "\n",
    "# We see that  these data columns have significantly highter correlation with the interested data, so we should focus on cleaning these data from outlisers\n",
    "df_cor_highlight =df_cor[df_cor>0.6]\n",
    "\n"
   ]
  },
  {
   "cell_type": "markdown",
   "id": "0842bc11-e583-4bf4-9c69-da120993859e",
   "metadata": {},
   "source": [
    "# Exploratory Data Analysis\n",
    "Main Contributor: Cheng"
   ]
  },
  {
   "cell_type": "code",
   "execution_count": 13,
   "id": "e5864266-35f0-4a76-bdce-b6ae70b12244",
   "metadata": {
    "ExecuteTime": {
     "end_time": "2024-05-14T01:40:58.644353400Z",
     "start_time": "2024-05-14T01:40:58.329087800Z"
    }
   },
   "outputs": [
    {
     "name": "stdout",
     "output_type": "stream",
     "text": [
      "Number of fraud transactions according to type are below:\n",
      " 8213 \n",
      "\n",
      "Number of valid transactions according to type are below:\n",
      " 6354407\n"
     ]
    }
   ],
   "source": [
    "fraud_trans = df[df['isFraud'] == 1]\n",
    "valid_trans = df[df['isFraud'] == 0]\n",
    "\n",
    "print('Number of fraud transactions according to type are below:\\n', len(fraud_trans), '\\n')\n",
    "print('Number of valid transactions according to type are below:\\n', len(valid_trans))"
   ]
  },
  {
   "cell_type": "code",
   "execution_count": 13,
   "id": "737fb99f-4f0f-4fe9-bf15-6364163f4593",
   "metadata": {
    "ExecuteTime": {
     "end_time": "2024-05-14T01:40:58.644855800Z",
     "start_time": "2024-05-14T01:40:58.638300500Z"
    }
   },
   "outputs": [],
   "source": []
  },
  {
   "cell_type": "code",
   "execution_count": 13,
   "id": "a716775b-c082-4210-a22a-f14f2ffbba84",
   "metadata": {
    "ExecuteTime": {
     "end_time": "2024-05-14T01:40:58.644855800Z",
     "start_time": "2024-05-14T01:40:58.641315400Z"
    }
   },
   "outputs": [],
   "source": []
  },
  {
   "cell_type": "code",
   "execution_count": 13,
   "id": "be243c36-71e9-45a2-af98-eaf4a4ca2d29",
   "metadata": {
    "ExecuteTime": {
     "end_time": "2024-05-14T01:40:58.646710400Z",
     "start_time": "2024-05-14T01:40:58.644855800Z"
    }
   },
   "outputs": [],
   "source": []
  },
  {
   "cell_type": "code",
   "execution_count": 13,
   "id": "dc7fa2ef-6531-4cec-a867-9781cd3aa02d",
   "metadata": {
    "ExecuteTime": {
     "end_time": "2024-05-14T01:40:58.653730600Z",
     "start_time": "2024-05-14T01:40:58.646710400Z"
    }
   },
   "outputs": [],
   "source": []
  },
  {
   "cell_type": "markdown",
   "id": "282d908f-be6b-4212-958b-2a155b94eb55",
   "metadata": {},
   "source": [
    "# Feature Engineering:"
   ]
  },
  {
   "cell_type": "markdown",
   "id": "a3f802f8-c3f0-4ff3-9174-759489e602b4",
   "metadata": {},
   "source": [
    "# Model Selection:"
   ]
  },
  {
   "cell_type": "markdown",
   "id": "fe182eda-9a7c-4fae-92d4-59721fd645ca",
   "metadata": {},
   "source": [
    "# Model Training:"
   ]
  },
  {
   "cell_type": "markdown",
   "id": "63fd6025-d0b4-47c2-a22c-2be5be6b4258",
   "metadata": {},
   "source": [
    "# Model Evaluation:"
   ]
  }
 ],
 "metadata": {
  "kernelspec": {
   "display_name": "Python 3 (ipykernel)",
   "language": "python",
   "name": "python3"
  },
  "language_info": {
   "codemirror_mode": {
    "name": "ipython",
    "version": 3
   },
   "file_extension": ".py",
   "mimetype": "text/x-python",
   "name": "python",
   "nbconvert_exporter": "python",
   "pygments_lexer": "ipython3",
   "version": "3.11.5"
  }
 },
 "nbformat": 4,
 "nbformat_minor": 5
}
